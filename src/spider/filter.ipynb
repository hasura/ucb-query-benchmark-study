{
 "cells": [
  {
   "cell_type": "code",
   "execution_count": 9,
   "id": "34ade140",
   "metadata": {},
   "outputs": [
    {
     "name": "stdout",
     "output_type": "stream",
     "text": [
      "(4, 4)\n"
     ]
    },
    {
     "data": {
      "text/html": [
       "<div>\n",
       "<style scoped>\n",
       "    .dataframe tbody tr th:only-of-type {\n",
       "        vertical-align: middle;\n",
       "    }\n",
       "\n",
       "    .dataframe tbody tr th {\n",
       "        vertical-align: top;\n",
       "    }\n",
       "\n",
       "    .dataframe thead th {\n",
       "        text-align: right;\n",
       "    }\n",
       "</style>\n",
       "<table border=\"1\" class=\"dataframe\">\n",
       "  <thead>\n",
       "    <tr style=\"text-align: right;\">\n",
       "      <th></th>\n",
       "      <th>instance_id</th>\n",
       "      <th>instruction</th>\n",
       "      <th>db_id</th>\n",
       "      <th>external_knowledge</th>\n",
       "    </tr>\n",
       "  </thead>\n",
       "  <tbody>\n",
       "    <tr>\n",
       "      <th>199</th>\n",
       "      <td>sf_bq016</td>\n",
       "      <td>Considering only the highest release versions of NPM packages, which one and its version has the most dependent packages?</td>\n",
       "      <td>DEPS_DEV_V1</td>\n",
       "      <td>None</td>\n",
       "    </tr>\n",
       "    <tr>\n",
       "      <th>200</th>\n",
       "      <td>sf_bq062</td>\n",
       "      <td>What is the most frequently used license by packages in each system?</td>\n",
       "      <td>DEPS_DEV_V1</td>\n",
       "      <td>None</td>\n",
       "    </tr>\n",
       "    <tr>\n",
       "      <th>201</th>\n",
       "      <td>sf_bq063</td>\n",
       "      <td>What is the github URL of the latest released package from the NPM system that have the highest number of dependencies? Exlcude those package whose names contain character '@' or the URL label is not 'SOURCE_REPO'.</td>\n",
       "      <td>DEPS_DEV_V1</td>\n",
       "      <td>None</td>\n",
       "    </tr>\n",
       "    <tr>\n",
       "      <th>202</th>\n",
       "      <td>sf_bq028</td>\n",
       "      <td>Considering only the latest release versions of NPM package, which packages are the top 8 most popular based on the Github star number, as well as their versions?</td>\n",
       "      <td>DEPS_DEV_V1</td>\n",
       "      <td>None</td>\n",
       "    </tr>\n",
       "  </tbody>\n",
       "</table>\n",
       "</div>"
      ],
      "text/plain": [
       "    instance_id  \\\n",
       "199    sf_bq016   \n",
       "200    sf_bq062   \n",
       "201    sf_bq063   \n",
       "202    sf_bq028   \n",
       "\n",
       "                                                                                                                                                                                                                instruction  \\\n",
       "199                                                                                               Considering only the highest release versions of NPM packages, which one and its version has the most dependent packages?   \n",
       "200                                                                                                                                                    What is the most frequently used license by packages in each system?   \n",
       "201  What is the github URL of the latest released package from the NPM system that have the highest number of dependencies? Exlcude those package whose names contain character '@' or the URL label is not 'SOURCE_REPO'.   \n",
       "202                                                      Considering only the latest release versions of NPM package, which packages are the top 8 most popular based on the Github star number, as well as their versions?   \n",
       "\n",
       "           db_id external_knowledge  \n",
       "199  DEPS_DEV_V1               None  \n",
       "200  DEPS_DEV_V1               None  \n",
       "201  DEPS_DEV_V1               None  \n",
       "202  DEPS_DEV_V1               None  "
      ]
     },
     "execution_count": 9,
     "metadata": {},
     "output_type": "execute_result"
    }
   ],
   "source": [
    "import pandas as pd\n",
    "\n",
    "# 读取 jsonl\n",
    "df = pd.read_json(\"spider2-snow-0713.jsonl\", lines=True)\n",
    "pd.set_option('display.max_colwidth', None)\n",
    "# 指定要筛选的 db_id\n",
    "target_db = \"DEPS_DEV_V1\"\n",
    "\n",
    "# 按 db_id 筛选\n",
    "df_filtered = df[df[\"db_id\"] == target_db]\n",
    "\n",
    "# 查看结果\n",
    "print(df_filtered.shape)\n",
    "df_filtered\n",
    "\n"
   ]
  }
 ],
 "metadata": {
  "kernelspec": {
   "display_name": "ucb",
   "language": "python",
   "name": "python3"
  },
  "language_info": {
   "codemirror_mode": {
    "name": "ipython",
    "version": 3
   },
   "file_extension": ".py",
   "mimetype": "text/x-python",
   "name": "python",
   "nbconvert_exporter": "python",
   "pygments_lexer": "ipython3",
   "version": "3.10.18"
  }
 },
 "nbformat": 4,
 "nbformat_minor": 5
}
